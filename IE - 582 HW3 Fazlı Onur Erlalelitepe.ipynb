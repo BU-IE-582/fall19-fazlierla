{
 "cells": [
  {
   "cell_type": "code",
   "execution_count": 4,
   "metadata": {},
   "outputs": [],
   "source": [
    "\n",
    "library(data.table)\n",
    "#install.packages(\"glmnet\", repos = \"http://cran.us.r-project.org\")\n",
    "require(glmnet)\n",
    "\n",
    "RealTimeConsumption<-fread(\"C:/Users/Linktera/Desktop/IE582/hw3/RealTimeConsumption-01012016-17112019.csv\",sep=\",\")\n",
    "\n",
    "RealTimeConsumption[,(\"Date\"):=(as.Date(Date,\"%d.%m.%Y\"))]\n",
    "RealTimeConsumption[,(\"Consumption (MWh)\"):=(as.numeric(gsub(\",\", \"\",`Consumption (MWh)`)))]\n",
    "RealTimeConsumption[,(\"Lag48\"):=(shift(`Consumption (MWh)`, n=48, fill=NA, type=\"lag\"))]\n",
    "RealTimeConsumption[,(\"Lag168\"):=(shift(`Consumption (MWh)`, n=168, fill=NA, type=\"lag\"))]\n",
    "RealTimeConsumption[,(\"Hour\"):=(as.numeric(substring(Hour,1,2)))]\n",
    "\n",
    "#a\n",
    "MAPE48=sum(abs((RealTimeConsumption[Date>=\"2019-11-01\",`Consumption (MWh)`]-RealTimeConsumption[Date>=\"2019-11-01\",Lag48])\n",
    "    /RealTimeConsumption[Date>=\"2019-11-01\",`Consumption (MWh)`]), na.rm=T)/\n",
    "  nrow(RealTimeConsumption[Date>=\"2019-11-01\",])\n",
    "\n",
    "\n",
    "MAPE168=sum(abs((RealTimeConsumption[Date>=\"2019-11-01\",`Consumption (MWh)`]-RealTimeConsumption[Date>=\"2019-11-01\",Lag168])\n",
    "    /RealTimeConsumption[Date>=\"2019-11-01\",`Consumption (MWh)`]), na.rm=T)/\n",
    "  nrow(RealTimeConsumption[Date>=\"2019-11-01\",])\n"
   ]
  },
  {
   "cell_type": "code",
   "execution_count": 5,
   "metadata": {},
   "outputs": [
    {
     "data": {
      "text/plain": [
       "\n",
       "Call:\n",
       "lm(formula = `Consumption (MWh)` ~ Lag48 + Lag168, data = train)\n",
       "\n",
       "Residuals:\n",
       "     Min       1Q   Median       3Q      Max \n",
       "-16784.6   -994.2      2.9   1022.4  15951.4 \n",
       "\n",
       "Coefficients:\n",
       "             Estimate Std. Error t value Pr(>|t|)    \n",
       "(Intercept) 1.624e+03  9.678e+01   16.78   <2e-16 ***\n",
       "Lag48       3.257e-01  3.520e-03   92.51   <2e-16 ***\n",
       "Lag168      6.246e-01  3.518e-03  177.51   <2e-16 ***\n",
       "---\n",
       "Signif. codes:  0 '***' 0.001 '**' 0.01 '*' 0.05 '.' 0.1 ' ' 1\n",
       "\n",
       "Residual standard error: 2403 on 33405 degrees of freedom\n",
       "Multiple R-squared:  0.7627,\tAdjusted R-squared:  0.7627 \n",
       "F-statistic: 5.368e+04 on 2 and 33405 DF,  p-value: < 2.2e-16\n"
      ]
     },
     "metadata": {},
     "output_type": "display_data"
    }
   ],
   "source": [
    "#b\n",
    "train<- RealTimeConsumption[Date<\"2019-11-01\",]\n",
    "train<- train[Date>\"2016-01-07\",]\n",
    "test <-RealTimeConsumption[Date>=\"2019-11-01\",]\n",
    "\n",
    "lr1<-lm(`Consumption (MWh)`~ Lag48 + Lag168,data=train)\n",
    "summary(lr1)\n",
    "\n",
    "test[,(\"Predicted\"):=predict(lr1,test)]\n",
    "MAPE_LR=sum(abs((test[,`Consumption (MWh)`]-test[,Predicted])/test[,`Consumption (MWh)`]),na.rm=T)/nrow(test)\n",
    "\n",
    "\n"
   ]
  },
  {
   "cell_type": "code",
   "execution_count": 6,
   "metadata": {},
   "outputs": [],
   "source": [
    "#c\n",
    "\n",
    "\n",
    "for (i in 0:23){\n",
    "  hourly_lr<-lm(`Consumption (MWh)`~ Lag48 + Lag168,data=train[Hour==i])\n",
    "  test[Hour==i,(\"Hourly_Predicted\"):=predict(hourly_lr,test[Hour==i])]\n",
    "}\n",
    "\n",
    "MAPE_LR_hourly=sum(abs((test[,`Consumption (MWh)`]-test[,Hourly_Predicted])/test[,`Consumption (MWh)`]),na.rm=T)/nrow(test)\n",
    "\n",
    "\n"
   ]
  },
  {
   "cell_type": "code",
   "execution_count": 7,
   "metadata": {},
   "outputs": [
    {
     "data": {
      "text/html": [
       "<time datetime=\"2016-01-08\">2016-01-08</time>"
      ],
      "text/latex": [
       "2016-01-08"
      ],
      "text/markdown": [
       "2016-01-08"
      ],
      "text/plain": [
       "[1] \"2016-01-08\""
      ]
     },
     "metadata": {},
     "output_type": "display_data"
    },
    {
     "data": {
      "text/html": [
       "<time datetime=\"2019-10-31\">2019-10-31</time>"
      ],
      "text/latex": [
       "2019-10-31"
      ],
      "text/markdown": [
       "2019-10-31"
      ],
      "text/plain": [
       "[1] \"2019-10-31\""
      ]
     },
     "metadata": {},
     "output_type": "display_data"
    },
    {
     "data": {
      "image/png": "[encoded data removed]",
      "text/plain": [
       "plot without title"
      ]
     },
     "metadata": {},
     "output_type": "display_data"
    }
   ],
   "source": [
    "#d\n",
    "\n",
    "\n",
    "train_wide<-train\n",
    "min(train_wide[,(Date)])\n",
    "max(train_wide[,(Date)])\n",
    "\n",
    "\n",
    "start_date<-min(train_wide[,(Date)])\n",
    "\n",
    "\n",
    "\n",
    "while  (start_date <=max(train_wide[,(Date)])){\n",
    "  train_wide[Date==start_date,(\"Lag_day7_hour_0\"):=train_wide[Date==start_date&Hour==0,Lag168]]\n",
    "  train_wide[Date==start_date,(\"Lag_day7_hour_1\"):=train_wide[Date==start_date&Hour==1,Lag168]]\n",
    "  train_wide[Date==start_date,(\"Lag_day7_hour_2\"):=train_wide[Date==start_date&Hour==2,Lag168]]\n",
    "  train_wide[Date==start_date,(\"Lag_day7_hour_3\"):=train_wide[Date==start_date&Hour==3,Lag168]]\n",
    "  train_wide[Date==start_date,(\"Lag_day7_hour_4\"):=train_wide[Date==start_date&Hour==4,Lag168]]\n",
    "  train_wide[Date==start_date,(\"Lag_day7_hour_5\"):=train_wide[Date==start_date&Hour==5,Lag168]]\n",
    "  train_wide[Date==start_date,(\"Lag_day7_hour_6\"):=train_wide[Date==start_date&Hour==6,Lag168]]\n",
    "  train_wide[Date==start_date,(\"Lag_day7_hour_7\"):=train_wide[Date==start_date&Hour==7,Lag168]]\n",
    "  train_wide[Date==start_date,(\"Lag_day7_hour_8\"):=train_wide[Date==start_date&Hour==8,Lag168]]\n",
    "  train_wide[Date==start_date,(\"Lag_day7_hour_9\"):=train_wide[Date==start_date&Hour==9,Lag168]]\n",
    "  train_wide[Date==start_date,(\"Lag_day7_hour_10\"):=train_wide[Date==start_date&Hour==10,Lag168]]\n",
    "  train_wide[Date==start_date,(\"Lag_day7_hour_11\"):=train_wide[Date==start_date&Hour==11,Lag168]]\n",
    "  train_wide[Date==start_date,(\"Lag_day7_hour_12\"):=train_wide[Date==start_date&Hour==12,Lag168]]\n",
    "  train_wide[Date==start_date,(\"Lag_day7_hour_13\"):=train_wide[Date==start_date&Hour==13,Lag168]]\n",
    "  train_wide[Date==start_date,(\"Lag_day7_hour_14\"):=train_wide[Date==start_date&Hour==14,Lag168]]\n",
    "  train_wide[Date==start_date,(\"Lag_day7_hour_15\"):=train_wide[Date==start_date&Hour==15,Lag168]]\n",
    "  train_wide[Date==start_date,(\"Lag_day7_hour_16\"):=train_wide[Date==start_date&Hour==16,Lag168]]\n",
    "  train_wide[Date==start_date,(\"Lag_day7_hour_17\"):=train_wide[Date==start_date&Hour==17,Lag168]]\n",
    "  train_wide[Date==start_date,(\"Lag_day7_hour_18\"):=train_wide[Date==start_date&Hour==18,Lag168]]\n",
    "  train_wide[Date==start_date,(\"Lag_day7_hour_19\"):=train_wide[Date==start_date&Hour==19,Lag168]]\n",
    "  train_wide[Date==start_date,(\"Lag_day7_hour_20\"):=train_wide[Date==start_date&Hour==20,Lag168]]\n",
    "  train_wide[Date==start_date,(\"Lag_day7_hour_21\"):=train_wide[Date==start_date&Hour==21,Lag168]]\n",
    "  train_wide[Date==start_date,(\"Lag_day7_hour_22\"):=train_wide[Date==start_date&Hour==22,Lag168]]\n",
    "  train_wide[Date==start_date,(\"Lag_day7_hour_23\"):=train_wide[Date==start_date&Hour==23,Lag168]]\n",
    "  train_wide[Date==start_date,(\"Lag_day2_hour_0\"):=train_wide[Date==start_date&Hour==0,Lag48]]\n",
    "  train_wide[Date==start_date,(\"Lag_day2_hour_1\"):=train_wide[Date==start_date&Hour==1,Lag48]]\n",
    "  train_wide[Date==start_date,(\"Lag_day2_hour_2\"):=train_wide[Date==start_date&Hour==2,Lag48]]\n",
    "  train_wide[Date==start_date,(\"Lag_day2_hour_3\"):=train_wide[Date==start_date&Hour==3,Lag48]]\n",
    "  train_wide[Date==start_date,(\"Lag_day2_hour_4\"):=train_wide[Date==start_date&Hour==4,Lag48]]\n",
    "  train_wide[Date==start_date,(\"Lag_day2_hour_5\"):=train_wide[Date==start_date&Hour==5,Lag48]]\n",
    "  train_wide[Date==start_date,(\"Lag_day2_hour_6\"):=train_wide[Date==start_date&Hour==6,Lag48]]\n",
    "  train_wide[Date==start_date,(\"Lag_day2_hour_7\"):=train_wide[Date==start_date&Hour==7,Lag48]]\n",
    "  train_wide[Date==start_date,(\"Lag_day2_hour_8\"):=train_wide[Date==start_date&Hour==8,Lag48]]\n",
    "  train_wide[Date==start_date,(\"Lag_day2_hour_9\"):=train_wide[Date==start_date&Hour==9,Lag48]]\n",
    "  train_wide[Date==start_date,(\"Lag_day2_hour_10\"):=train_wide[Date==start_date&Hour==10,Lag48]]\n",
    "  train_wide[Date==start_date,(\"Lag_day2_hour_11\"):=train_wide[Date==start_date&Hour==11,Lag48]]\n",
    "  train_wide[Date==start_date,(\"Lag_day2_hour_12\"):=train_wide[Date==start_date&Hour==12,Lag48]]\n",
    "  train_wide[Date==start_date,(\"Lag_day2_hour_13\"):=train_wide[Date==start_date&Hour==13,Lag48]]\n",
    "  train_wide[Date==start_date,(\"Lag_day2_hour_14\"):=train_wide[Date==start_date&Hour==14,Lag48]]\n",
    "  train_wide[Date==start_date,(\"Lag_day2_hour_15\"):=train_wide[Date==start_date&Hour==15,Lag48]]\n",
    "  train_wide[Date==start_date,(\"Lag_day2_hour_16\"):=train_wide[Date==start_date&Hour==16,Lag48]]\n",
    "  train_wide[Date==start_date,(\"Lag_day2_hour_17\"):=train_wide[Date==start_date&Hour==17,Lag48]]\n",
    "  train_wide[Date==start_date,(\"Lag_day2_hour_18\"):=train_wide[Date==start_date&Hour==18,Lag48]]\n",
    "  train_wide[Date==start_date,(\"Lag_day2_hour_19\"):=train_wide[Date==start_date&Hour==19,Lag48]]\n",
    "  train_wide[Date==start_date,(\"Lag_day2_hour_20\"):=train_wide[Date==start_date&Hour==20,Lag48]]\n",
    "  train_wide[Date==start_date,(\"Lag_day2_hour_21\"):=train_wide[Date==start_date&Hour==21,Lag48]]\n",
    "  train_wide[Date==start_date,(\"Lag_day2_hour_22\"):=train_wide[Date==start_date&Hour==22,Lag48]]\n",
    "  train_wide[Date==start_date,(\"Lag_day2_hour_23\"):=train_wide[Date==start_date&Hour==23,Lag48]]\n",
    "  start_date=start_date+1\n",
    "}\n",
    "\n",
    "test_wide<-test\n",
    "start_date<-min(test_wide[,(Date)])\n",
    "\n",
    "while  (start_date <=max(test_wide[,(Date)])){\n",
    "  test_wide[Date==start_date,(\"Lag_day7_hour_0\"):=test_wide[Date==start_date&Hour==0,Lag168]]\n",
    "  test_wide[Date==start_date,(\"Lag_day7_hour_1\"):=test_wide[Date==start_date&Hour==1,Lag168]]\n",
    "  test_wide[Date==start_date,(\"Lag_day7_hour_2\"):=test_wide[Date==start_date&Hour==2,Lag168]]\n",
    "  test_wide[Date==start_date,(\"Lag_day7_hour_3\"):=test_wide[Date==start_date&Hour==3,Lag168]]\n",
    "  test_wide[Date==start_date,(\"Lag_day7_hour_4\"):=test_wide[Date==start_date&Hour==4,Lag168]]\n",
    "  test_wide[Date==start_date,(\"Lag_day7_hour_5\"):=test_wide[Date==start_date&Hour==5,Lag168]]\n",
    "  test_wide[Date==start_date,(\"Lag_day7_hour_6\"):=test_wide[Date==start_date&Hour==6,Lag168]]\n",
    "  test_wide[Date==start_date,(\"Lag_day7_hour_7\"):=test_wide[Date==start_date&Hour==7,Lag168]]\n",
    "  test_wide[Date==start_date,(\"Lag_day7_hour_8\"):=test_wide[Date==start_date&Hour==8,Lag168]]\n",
    "  test_wide[Date==start_date,(\"Lag_day7_hour_9\"):=test_wide[Date==start_date&Hour==9,Lag168]]\n",
    "  test_wide[Date==start_date,(\"Lag_day7_hour_10\"):=test_wide[Date==start_date&Hour==10,Lag168]]\n",
    "  test_wide[Date==start_date,(\"Lag_day7_hour_11\"):=test_wide[Date==start_date&Hour==11,Lag168]]\n",
    "  test_wide[Date==start_date,(\"Lag_day7_hour_12\"):=test_wide[Date==start_date&Hour==12,Lag168]]\n",
    "  test_wide[Date==start_date,(\"Lag_day7_hour_13\"):=test_wide[Date==start_date&Hour==13,Lag168]]\n",
    "  test_wide[Date==start_date,(\"Lag_day7_hour_14\"):=test_wide[Date==start_date&Hour==14,Lag168]]\n",
    "  test_wide[Date==start_date,(\"Lag_day7_hour_15\"):=test_wide[Date==start_date&Hour==15,Lag168]]\n",
    "  test_wide[Date==start_date,(\"Lag_day7_hour_16\"):=test_wide[Date==start_date&Hour==16,Lag168]]\n",
    "  test_wide[Date==start_date,(\"Lag_day7_hour_17\"):=test_wide[Date==start_date&Hour==17,Lag168]]\n",
    "  test_wide[Date==start_date,(\"Lag_day7_hour_18\"):=test_wide[Date==start_date&Hour==18,Lag168]]\n",
    "  test_wide[Date==start_date,(\"Lag_day7_hour_19\"):=test_wide[Date==start_date&Hour==19,Lag168]]\n",
    "  test_wide[Date==start_date,(\"Lag_day7_hour_20\"):=test_wide[Date==start_date&Hour==20,Lag168]]\n",
    "  test_wide[Date==start_date,(\"Lag_day7_hour_21\"):=test_wide[Date==start_date&Hour==21,Lag168]]\n",
    "  test_wide[Date==start_date,(\"Lag_day7_hour_22\"):=test_wide[Date==start_date&Hour==22,Lag168]]\n",
    "  test_wide[Date==start_date,(\"Lag_day7_hour_23\"):=test_wide[Date==start_date&Hour==23,Lag168]]\n",
    "  test_wide[Date==start_date,(\"Lag_day2_hour_0\"):=test_wide[Date==start_date&Hour==0,Lag48]]\n",
    "  test_wide[Date==start_date,(\"Lag_day2_hour_1\"):=test_wide[Date==start_date&Hour==1,Lag48]]\n",
    "  test_wide[Date==start_date,(\"Lag_day2_hour_2\"):=test_wide[Date==start_date&Hour==2,Lag48]]\n",
    "  test_wide[Date==start_date,(\"Lag_day2_hour_3\"):=test_wide[Date==start_date&Hour==3,Lag48]]\n",
    "  test_wide[Date==start_date,(\"Lag_day2_hour_4\"):=test_wide[Date==start_date&Hour==4,Lag48]]\n",
    "  test_wide[Date==start_date,(\"Lag_day2_hour_5\"):=test_wide[Date==start_date&Hour==5,Lag48]]\n",
    "  test_wide[Date==start_date,(\"Lag_day2_hour_6\"):=test_wide[Date==start_date&Hour==6,Lag48]]\n",
    "  test_wide[Date==start_date,(\"Lag_day2_hour_7\"):=test_wide[Date==start_date&Hour==7,Lag48]]\n",
    "  test_wide[Date==start_date,(\"Lag_day2_hour_8\"):=test_wide[Date==start_date&Hour==8,Lag48]]\n",
    "  test_wide[Date==start_date,(\"Lag_day2_hour_9\"):=test_wide[Date==start_date&Hour==9,Lag48]]\n",
    "  test_wide[Date==start_date,(\"Lag_day2_hour_10\"):=test_wide[Date==start_date&Hour==10,Lag48]]\n",
    "  test_wide[Date==start_date,(\"Lag_day2_hour_11\"):=test_wide[Date==start_date&Hour==11,Lag48]]\n",
    "  test_wide[Date==start_date,(\"Lag_day2_hour_12\"):=test_wide[Date==start_date&Hour==12,Lag48]]\n",
    "  test_wide[Date==start_date,(\"Lag_day2_hour_13\"):=test_wide[Date==start_date&Hour==13,Lag48]]\n",
    "  test_wide[Date==start_date,(\"Lag_day2_hour_14\"):=test_wide[Date==start_date&Hour==14,Lag48]]\n",
    "  test_wide[Date==start_date,(\"Lag_day2_hour_15\"):=test_wide[Date==start_date&Hour==15,Lag48]]\n",
    "  test_wide[Date==start_date,(\"Lag_day2_hour_16\"):=test_wide[Date==start_date&Hour==16,Lag48]]\n",
    "  test_wide[Date==start_date,(\"Lag_day2_hour_17\"):=test_wide[Date==start_date&Hour==17,Lag48]]\n",
    "  test_wide[Date==start_date,(\"Lag_day2_hour_18\"):=test_wide[Date==start_date&Hour==18,Lag48]]\n",
    "  test_wide[Date==start_date,(\"Lag_day2_hour_19\"):=test_wide[Date==start_date&Hour==19,Lag48]]\n",
    "  test_wide[Date==start_date,(\"Lag_day2_hour_20\"):=test_wide[Date==start_date&Hour==20,Lag48]]\n",
    "  test_wide[Date==start_date,(\"Lag_day2_hour_21\"):=test_wide[Date==start_date&Hour==21,Lag48]]\n",
    "  test_wide[Date==start_date,(\"Lag_day2_hour_22\"):=test_wide[Date==start_date&Hour==22,Lag48]]\n",
    "  test_wide[Date==start_date,(\"Lag_day2_hour_23\"):=test_wide[Date==start_date&Hour==23,Lag48]]\n",
    "  start_date=start_date+1\n",
    "}\n",
    "\n",
    "\n",
    "\n",
    "\n",
    "\n",
    "Selected_Cols=c(\"Lag_day2_hour_0\",\"Lag_day2_hour_1\",\"Lag_day2_hour_2\",\"Lag_day2_hour_3\",\"Lag_day2_hour_4\",\"Lag_day2_hour_5\",\"Lag_day2_hour_6\",\"Lag_day2_hour_7\",\"Lag_day2_hour_8\",\"Lag_day2_hour_9\",\"Lag_day2_hour_10\",\"Lag_day2_hour_11\",\"Lag_day2_hour_12\",\"Lag_day2_hour_13\",\"Lag_day2_hour_14\",\"Lag_day2_hour_15\",\"Lag_day2_hour_16\",\"Lag_day2_hour_17\",\"Lag_day2_hour_18\",\"Lag_day2_hour_19\",\"Lag_day2_hour_20\",\"Lag_day2_hour_21\",\"Lag_day2_hour_22\",\"Lag_day2_hour_23\",\n",
    "                \"Lag_day7_hour_0\",\"Lag_day7_hour_1\",\"Lag_day7_hour_2\",\"Lag_day7_hour_3\",\"Lag_day7_hour_4\",\"Lag_day7_hour_5\",\"Lag_day7_hour_6\",\"Lag_day7_hour_7\",\"Lag_day7_hour_8\",\"Lag_day7_hour_9\",\"Lag_day7_hour_10\",\"Lag_day7_hour_11\",\"Lag_day7_hour_12\",\"Lag_day7_hour_13\",\"Lag_day7_hour_14\",\"Lag_day7_hour_15\",\"Lag_day7_hour_16\",\"Lag_day7_hour_17\",\"Lag_day7_hour_18\",\"Lag_day7_hour_19\",\"Lag_day7_hour_20\",\"Lag_day7_hour_21\",\"Lag_day7_hour_22\",\"Lag_day7_hour_23\")\n",
    "\n",
    "\n",
    "for (i in 0:23){\n",
    "  set.seed(1)\n",
    "  x<-as.matrix(train_wide[Hour==i,..Selected_Cols])\n",
    "  cv<-cv.glmnet(x=x,y=train_wide[Hour==i,`Consumption (MWh)`],alpha=1,nlambda = 100)\n",
    "  glm<-glmnet(x=x,y=train_wide[Hour==i,`Consumption (MWh)`],lambda = cv$lambda.1se)\n",
    "  test_x<-as.matrix(test_wide[Hour==i,..Selected_Cols])\n",
    "  predicted_glm_y<-predict(glm,s=cv$lambda.1se,test_x,type=\"response\")\n",
    "  test[Hour==i,(\"Hourly_Predicted_GLM\"):=predicted_glm_y]\n",
    "}\n",
    "\n",
    "MAPE_LR_hourly_GLM=sum(abs((test[,`Consumption (MWh)`]-test[,Hourly_Predicted_GLM])/test[,`Consumption (MWh)`]),na.rm=T)/nrow(test)\n",
    "\n",
    "\n",
    "boxplot(MAPE48,MAPE168,MAPE_LR,MAPE_LR_hourly,MAPE_LR_hourly_GLM)\n",
    "\n",
    "##As it can be seen from the plot best performing model is the lasso regression model developed with hourly data.\n",
    "##Also interestingly we can see Linear regression models performance  are even worse than using LAG168 data directly.\n",
    "##Probably overfitting caused this porblem since we are comparing results from test data.\n",
    "\n"
   ]
  }
 ],
 "metadata": {
  "kernelspec": {
   "display_name": "R",
   "language": "R",
   "name": "ir"
  },
  "language_info": {
   "codemirror_mode": "r",
   "file_extension": ".r",
   "mimetype": "text/x-r-source",
   "name": "R",
   "pygments_lexer": "r",
   "version": "3.6.1"
  }
 },
 "nbformat": 4,
 "nbformat_minor": 2
}
